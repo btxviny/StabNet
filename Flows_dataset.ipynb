{
 "cells": [
  {
   "cell_type": "code",
   "execution_count": 1,
   "metadata": {},
   "outputs": [],
   "source": [
    "import torch\n",
    "import torch.nn as nn\n",
    "import torch.nn.functional as F\n",
    "import warnings\n",
    "import numpy as np\n",
    "import os\n",
    "import cv2\n",
    "import tqdm\n",
    "warnings.filterwarnings(\"ignore\")\n",
    "device = 'cuda'\n",
    "shape = (H,W,C) = (256,256,3)"
   ]
  },
  {
   "cell_type": "code",
   "execution_count": 2,
   "metadata": {},
   "outputs": [],
   "source": [
    from torchvision import models
raft = models.optical_flow.raft_small(weights = 'Raft_Small_Weights.C_T_V2').eval().to(device)

def get_flow(img1, img2):
    img1_t = torch.from_numpy(img1/255.0).permute(-1,0,1).unsqueeze(0).float().to(device)
    img2_t = torch.from_numpy(img2/255.0).permute(-1,0,1).unsqueeze(0).float().to(device)
    flow = raft(img1_t,img2_t)[-1].detach().cpu().permute(0,2,3,1).squeeze(0).numpy()
    return flow 
    "\n",
    "def show_flow(flow):\n",
    "    hsv_mask = np.zeros(shape= flow.shape[:-1] +(3,),dtype = np.uint8)\n",
    "    hsv_mask[...,1] = 255\n",
    "    mag, ang = cv2.cartToPolar(flow[...,0], flow[...,1],angleInDegrees=True)\n",
    "    hsv_mask[:,:,0] = ang /2 \n",
    "    hsv_mask[:,:,2] = cv2.normalize(mag,None,0,255,cv2.NORM_MINMAX)\n",
    "    rgb = cv2.cvtColor(hsv_mask,cv2.COLOR_HSV2RGB)\n",
    "    return(rgb)"
   ]
  },
  {
   "cell_type": "code",
   "execution_count": null,
   "metadata": {},
   "outputs": [],
   "source": [
    "videos_path = 'E:/Datasets/DeepStab Modded/Stable_60/'\n",
    "flows_path = 'E:/Datasets/DeepStab Modded/Flows_256x256'\n",
    "cv2.namedWindow('window',cv2.WINDOW_NORMAL)\n",
    "videos = os.listdir(videos_path)\n",
    "for video in tqdm.tqdm(videos):\n",
    "    cap = cv2.VideoCapture(os.path.join(videos_path, video))\n",
    "    ret,prev = cap.read()\n",
    "    prev = cv2.resize(prev,(W,H))\n",
    "    flows = []\n",
    "    while True:\n",
    "        ret,curr = cap.read()\n",
    "        if not ret: break\n",
    "        curr = cv2.resize(curr,(W,H))\n",
    "        flow = get_flow(prev,curr)\n",
    "        flows.append(flow)\n",
    "        prev = curr\n",
    "        cv2.imshow('window',show_flow(flow))\n",
    "        if cv2.waitKey(1) & 0xFF == ord('9'):\n",
    "            break\n",
    "    flows = np.array(flows).astype(np.float32)\n",
    "    output_path = os.path.join(flows_path,video.split('.')[0] + '.npy')\n",
    "    np.save(output_path,flows)\n",
    "cv2.destroyAllWindows()"
   ]
  },
  {
   "cell_type": "code",
   "execution_count": null,
   "metadata": {},
   "outputs": [],
   "source": []
  }
 ],
 "metadata": {
  "kernelspec": {
   "display_name": "DUTCode",
   "language": "python",
   "name": "python3"
  },
  "language_info": {
   "codemirror_mode": {
    "name": "ipython",
    "version": 3
   },
   "file_extension": ".py",
   "mimetype": "text/x-python",
   "name": "python",
   "nbconvert_exporter": "python",
   "pygments_lexer": "ipython3",
   "version": "3.9.16"
  }
 },
 "nbformat": 4,
 "nbformat_minor": 2
}
