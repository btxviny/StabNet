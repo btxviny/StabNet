{
 "cells": [
  {
   "cell_type": "code",
   "execution_count": 1,
   "metadata": {},
   "outputs": [],
   "source": [
    "import numpy as np\n",
    "import cv2\n",
    "import torch\n",
    "from time import time\n",
    "import os\n",
    "import matplotlib.pyplot as plt\n",
    "import torch.nn as nn\n",
    "import torchvision\n",
    "import torch.nn.functional as F\n",
    "from torch.utils import data\n",
    "from datagen import Datagen\n",
    "from image_utils import *\n",
    "from v2_93 import *\n",
    "import math\n",
    "import datetime\n",
    "\n",
    "device = 'cuda'\n",
    "ckpt_dir = 'E:/ModelCkpts/StabNet-multigrid-future_frames'\n",
    "starting_epoch = 0\n",
    "H,W,C = shape = (256,256,3)\n",
    "batch_size = 4\n",
    "EPOCHS = 10\n",
    "grid_h, grid_w = 15,15"
   ]
  },
  {
   "cell_type": "code",
   "execution_count": 2,
   "metadata": {},
   "outputs": [],
   "source": [
    "from models import transformer\n",
    "class StabNet(nn.Module):\n",
    "    def __init__(self,trainable_layers = 10):\n",
    "        super(StabNet, self).__init__()\n",
    "        # Load the pre-trained ResNet model\n",
    "        vgg19 = torchvision.models.vgg19(weights='IMAGENET1K_V1')\n",
    "        # Extract conv1 pretrained weights for RGB input\n",
    "        rgb_weights = vgg19.features[0].weight.clone() #torch.Size([64, 3, 3, 3])\n",
    "        # Calculate the average across the RGB channels\n",
    "        tiled_rgb_weights = rgb_weights.repeat(1,5,1,1) \n",
    "        # Change size of the first layer from 3 to 9 channels\n",
    "        vgg19.features[0] = nn.Conv2d(15,64, kernel_size=3, stride=1, padding=1, bias=False)\n",
    "        # set new weights\n",
    "        vgg19.features[0].weight = nn.Parameter(tiled_rgb_weights)\n",
    "        # Determine the total number of layers in the model\n",
    "        total_layers = sum(1 for _ in vgg19.parameters())\n",
    "        # Freeze the layers except the last 10\n",
    "        for idx, param in enumerate(vgg19.parameters()):\n",
    "            if idx > total_layers - trainable_layers:\n",
    "                param.requires_grad = True\n",
    "            else:\n",
    "                param.requires_grad = False\n",
    "        # Remove the last layer of ResNet\n",
    "        self.encoder = nn.Sequential(*list(vgg19.children())[0][:-1])\n",
    "        self.regressor = nn.Sequential(nn.Linear(512,2048),\n",
    "                                       nn.ReLU(),\n",
    "                                       nn.Linear(2048,1024),\n",
    "                                       nn.ReLU(),\n",
    "                                       nn.Linear(1024,512),\n",
    "                                       nn.ReLU(),\n",
    "                                       nn.Linear(512, ((grid_h + 1) * (grid_w + 1) * 2)))\n",
    "        #self.regressor[-1].bias.data.fill_(0)\n",
    "        total_resnet_params = sum(p.numel() for p in self.encoder.parameters() if p.requires_grad)\n",
    "        total_regressor_params = sum(p.numel() for p in self.regressor.parameters() if p.requires_grad)\n",
    "        print(\"Total Trainable mobilenet Parameters: \", total_resnet_params)\n",
    "        print(\"Total Trainable regressor Parameters: \", total_regressor_params)\n",
    "        print(\"Total Trainable parameters:\",total_regressor_params + total_resnet_params)\n",
    "    \n",
    "    def forward(self, x_tensor):\n",
    "        x_batch_size = x_tensor.size()[0]\n",
    "        x = x_tensor[:, :3, :, :]\n",
    "\n",
    "        # summary 1, dismiss now\n",
    "        x_tensor = self.encoder(x_tensor)\n",
    "        x_tensor = torch.mean(x_tensor, dim=[2, 3])\n",
    "        x = self.regressor(x_tensor)\n",
    "        x = x.view(x_batch_size,grid_h + 1,grid_w + 1,2)\n",
    "        return x"
   ]
  },
  {
   "cell_type": "code",
   "execution_count": 3,
   "metadata": {},
   "outputs": [
    {
     "name": "stdout",
     "output_type": "stream",
     "text": [
      "Total Trainable mobilenet Parameters:  2360320\n",
      "Total Trainable regressor Parameters:  3936256\n",
      "Total Trainable parameters: 6296576\n"
     ]
    }
   ],
   "source": [
    "stabnet = StabNet(trainable_layers=10).to(device).train()\n",
    "optimizer = torch.optim.Adam(stabnet.parameters(),lr = 2e-5)\n"
   ]
  },
  {
   "cell_type": "code",
   "execution_count": 4,
   "metadata": {},
   "outputs": [
    {
     "data": {
      "text/plain": [
       "torch.Size([1, 16, 16, 2])"
      ]
     },
     "execution_count": 4,
     "metadata": {},
     "output_type": "execute_result"
    }
   ],
   "source": [
    "out = stabnet(torch.randn(1,15,256,256).float().to(device))\n",
    "out.shape"
   ]
  },
  {
   "cell_type": "code",
   "execution_count": 5,
   "metadata": {},
   "outputs": [
    {
     "name": "stdout",
     "output_type": "stream",
     "text": [
      "Loaded weights from E:/ModelCkpts/StabNet-multigrid-future_frames\\stabnet_2023-11-01_23-17-37.pth\n",
      "Reduced learning rate to 5.000000000000001e-07\n"
     ]
    }
   ],
   "source": [
    "ckpts = os.listdir(ckpt_dir)\n",
    "if ckpts:\n",
    "    ckpts = sorted(ckpts, key=lambda x: datetime.datetime.strptime(x.split('_')[2].split('.')[0], \"%H-%M-%S\"), reverse=True)\n",
    "    # Get the filename of the latest checkpoint\n",
    "    latest = os.path.join(ckpt_dir, ckpts[0])\n",
    "    # Load the latest checkpoint\n",
    "    state = torch.load(latest)\n",
    "    stabnet.load_state_dict(state['model'])\n",
    "    optimizer.load_state_dict(state['optimizer'])\n",
    "    starting_epoch = state['epoch'] + 1\n",
    "    optimizer.param_groups[0]['lr'] *= 0.1\n",
    "    print('Loaded weights from', latest)\n",
    "    print('Reduced learning rate to', optimizer.param_groups[0]['lr'])"
   ]
  },
  {
   "cell_type": "code",
   "execution_count": 6,
   "metadata": {},
   "outputs": [],
   "source": [
    "def get_warp(net_out,img):\n",
    "    '''\n",
    "    Inputs:\n",
    "        net_out: torch.Size([batch_size,grid_h +1 ,grid_w +1,2])\n",
    "        img: image to warp\n",
    "    '''\n",
    "    grid_y, grid_x = torch.meshgrid(torch.linspace(-1,1, grid_h + 1),\n",
    "                                    torch.linspace(-1,1, grid_h + 1),\n",
    "                                    indexing='ij')\n",
    "    src_grid = torch.stack([grid_x,grid_y],dim = -1).unsqueeze(0).repeat(batch_size,1,1,1).to(device)\n",
    "    new_grid = src_grid + net_out\n",
    "    grid_upscaled = F.interpolate(new_grid.permute(0,-1,1,2),size = (height,width), mode = 'bilinear',align_corners= True)\n",
    "    warped = F.grid_sample(img, grid_upscaled.permute(0,2,3,1),align_corners=True)\n",
    "    return warped ,grid_upscaled.permute(0,2,3,1)"
   ]
  },
  {
   "cell_type": "code",
   "execution_count": 7,
   "metadata": {},
   "outputs": [],
   "source": [
    "def temp_loss(warped0,warped1, flow):\n",
    "    #prev  warped1\n",
    "    #curr  warped0\n",
    "    temp = dense_warp(warped1, flow)\n",
    "    return F.l1_loss(warped0,temp)\n",
    "\n",
    "def shape_loss(net_out):\n",
    "    grid_y, grid_x = torch.meshgrid(torch.linspace(-1,1, grid_h + 1),\n",
    "                                    torch.linspace(-1,1, grid_h + 1),\n",
    "                                    indexing='ij')\n",
    "    grid_tensor = torch.stack([grid_x,grid_y],dim = -1).unsqueeze(0).repeat(batch_size,1,1,1).to(device)\n",
    "    new_grid = grid_tensor + net_out\n",
    "\n",
    "    #Lintra\n",
    "    vt0 = new_grid[:, :-1, 1:, :]\n",
    "    vt0_original = grid_tensor[:, :-1, 1:, :]\n",
    "    vt1 = new_grid[:, :-1, :-1, :]\n",
    "    vt1_original = grid_tensor[:, :-1, :-1, :]\n",
    "    vt = new_grid[:, 1:, :-1, :]\n",
    "    vt_original = grid_tensor[:, 1:, :-1, :]\n",
    "    alpha = vt - vt1\n",
    "    s = torch.norm(vt_original - vt1_original, dim=-1) / torch.norm(vt0_original - vt1_original, dim=-1)\n",
    "    vt01 = vt0 - vt1\n",
    "    beta = s[..., None] * torch.stack([vt01[..., 1], -vt01[..., 0]], dim=-1)\n",
    "    norm = torch.norm(alpha - beta, dim=-1, keepdim=True)\n",
    "    Lintra = torch.sum(norm) / (((grid_h + 1) * (grid_w + 1)) * batch_size)\n",
    "\n",
    "    # Extract the vertices for computation\n",
    "    vt1_vertical = new_grid[:, :-2, :, :]\n",
    "    vt_vertical = new_grid[:, 1:-1, :, :]\n",
    "    vt0_vertical = new_grid[:, 2:, :, :]\n",
    "\n",
    "    vt1_horizontal = new_grid[:, :, :-2, :]\n",
    "    vt_horizontal = new_grid[:, :, 1:-1, :]\n",
    "    vt0_horizontal = new_grid[:, :, 2:, :]\n",
    "\n",
    "    # Compute the differences\n",
    "    vt_diff_vertical = vt1_vertical - vt_vertical\n",
    "    vt_diff_horizontal = vt1_horizontal - vt_horizontal\n",
    "\n",
    "    # Compute Linter for vertical direction\n",
    "    Linter_vertical = torch.mean(torch.norm(vt_diff_vertical - (vt_vertical - vt0_vertical), dim=-1))\n",
    "\n",
    "    # Compute Linter for horizontal direction\n",
    "    Linter_horizontal = torch.mean(torch.norm(vt_diff_horizontal - (vt_horizontal - vt0_horizontal), dim=-1))\n",
    "\n",
    "    # Combine Linter for both directions\n",
    "    Linter = Linter_vertical + Linter_horizontal\n",
    "\n",
    "    # Compute the shape loss\n",
    "    shape_loss = Lintra + 20 * Linter\n",
    "\n",
    "    return shape_loss\n",
    "\n",
    "def feature_loss(features, warp_field):\n",
    "    stable_features = ((features[:, :, 0, :] + 1) / 2) * torch.tensor([255, 255], dtype=torch.float).to(device)\n",
    "    unstable_features = ((features[:, :, 1, :] + 1) / 2) * torch.tensor([255, 255], dtype=torch.float).to(device)\n",
    "    \n",
    "    # Clip the features to the range [0, 255]\n",
    "    stable_features = torch.clamp(stable_features, min=0, max=255)\n",
    "    unstable_features = torch.clamp(unstable_features, min=0, max=255)\n",
    "    \n",
    "    warped_unstable_features = unstable_features + warp_field[:, unstable_features[:, :, 1].long(), unstable_features[:, :, 0].long(), :]\n",
    "    loss = torch.mean(torch.sqrt(torch.sum((stable_features - warped_unstable_features) ** 2,dim = -1)))\n",
    "    \n",
    "    return loss"
   ]
  },
  {
   "cell_type": "code",
   "execution_count": 8,
   "metadata": {},
   "outputs": [],
   "source": [
    "def draw_features(image,features,color):\n",
    "    drawn = image.copy()\n",
    "    for point in features:\n",
    "        x,y = point\n",
    "        cv2.circle(drawn, (int(x),int(y)), 2, color, -1)\n",
    "    return drawn"
   ]
  },
  {
   "attachments": {
    "image.png": {
     "image/png": "[encoded data removed]"
    }
   },
   "cell_type": "markdown",
   "metadata": {},
   "source": [
    "![image.png](attachment:image.png)"
   ]
  },
  {
   "cell_type": "code",
   "execution_count": 9,
   "metadata": {},
   "outputs": [],
   "source": [
    "class IterDataset(data.IterableDataset):\n",
    "    def __init__(self, data_generator):\n",
    "        super(IterDataset, self).__init__()\n",
    "        self.data_generator = data_generator\n",
    "\n",
    "    def __iter__(self):\n",
    "        return iter(self.data_generator())\n",
    "generator = Datagen(shape = (H,W),txt_path = './trainlist.txt')\n",
    "iter_dataset = IterDataset(generator)\n",
    "data_loader = data.DataLoader(iter_dataset, batch_size=batch_size)\n"
   ]
  },
  {
   "cell_type": "code",
   "execution_count": 10,
   "metadata": {},
   "outputs": [],
   "source": [
    "from torch.utils.tensorboard import SummaryWriter\n",
    "# default `log_dir` is \"runs\" - we'll be more specific here\n",
    "writer = SummaryWriter('runs/vgg_16x16/')"
   ]
  },
  {
   "cell_type": "code",
   "execution_count": 11,
   "metadata": {},
   "outputs": [
    {
     "name": "stdout",
     "output_type": "stream",
     "text": [
      "Epoch: 2, Batch:1193, loss:8.925530743091665        pixel_loss:4.0964155197143555, feature_loss:3.904881715774536 ,temp:4.310582160949707, shape:0.2874298393726349353"
     ]
    },
    {
     "ename": "KeyboardInterrupt",
     "evalue": "",
     "output_type": "error",
     "traceback": [
      "\u001b[1;31m---------------------------------------------------------------------------\u001b[0m",
      "\u001b[1;31mKeyboardInterrupt\u001b[0m                         Traceback (most recent call last)",
      "\u001b[1;32mc:\\Users\\VINY\\Desktop\\Stabnet multigrid2-DeepStab Modded - Future Frames\\Stabnet_vgg19_16x16.ipynb Cell 12\u001b[0m line \u001b[0;36m6\n\u001b[0;32m      <a href='vscode-notebook-cell:/c%3A/Users/VINY/Desktop/Stabnet%20multigrid2-DeepStab%20Modded%20-%20Future%20Frames/Stabnet_vgg19_16x16.ipynb#X14sZmlsZQ%3D%3D?line=2'>3</a>\u001b[0m \u001b[39mfor\u001b[39;00m epoch \u001b[39min\u001b[39;00m \u001b[39mrange\u001b[39m(starting_epoch,EPOCHS):  \n\u001b[0;32m      <a href='vscode-notebook-cell:/c%3A/Users/VINY/Desktop/Stabnet%20multigrid2-DeepStab%20Modded%20-%20Future%20Frames/Stabnet_vgg19_16x16.ipynb#X14sZmlsZQ%3D%3D?line=3'>4</a>\u001b[0m     \u001b[39m# Generate the data for each iteration\u001b[39;00m\n\u001b[0;32m      <a href='vscode-notebook-cell:/c%3A/Users/VINY/Desktop/Stabnet%20multigrid2-DeepStab%20Modded%20-%20Future%20Frames/Stabnet_vgg19_16x16.ipynb#X14sZmlsZQ%3D%3D?line=4'>5</a>\u001b[0m     running_loss \u001b[39m=\u001b[39m \u001b[39m0\u001b[39m\n\u001b[1;32m----> <a href='vscode-notebook-cell:/c%3A/Users/VINY/Desktop/Stabnet%20multigrid2-DeepStab%20Modded%20-%20Future%20Frames/Stabnet_vgg19_16x16.ipynb#X14sZmlsZQ%3D%3D?line=5'>6</a>\u001b[0m     \u001b[39mfor\u001b[39;00m idx,batch \u001b[39min\u001b[39;00m \u001b[39menumerate\u001b[39m(data_loader):\n\u001b[0;32m      <a href='vscode-notebook-cell:/c%3A/Users/VINY/Desktop/Stabnet%20multigrid2-DeepStab%20Modded%20-%20Future%20Frames/Stabnet_vgg19_16x16.ipynb#X14sZmlsZQ%3D%3D?line=6'>7</a>\u001b[0m         start \u001b[39m=\u001b[39m time()\n\u001b[0;32m      <a href='vscode-notebook-cell:/c%3A/Users/VINY/Desktop/Stabnet%20multigrid2-DeepStab%20Modded%20-%20Future%20Frames/Stabnet_vgg19_16x16.ipynb#X14sZmlsZQ%3D%3D?line=7'>8</a>\u001b[0m         St, St_1, Igt , flow,features \u001b[39m=\u001b[39m batch\n",
      "File \u001b[1;32mc:\\Users\\VINY\\anaconda3\\envs\\DUTCode\\lib\\site-packages\\torch\\utils\\data\\dataloader.py:633\u001b[0m, in \u001b[0;36m_BaseDataLoaderIter.__next__\u001b[1;34m(self)\u001b[0m\n\u001b[0;32m    630\u001b[0m \u001b[39mif\u001b[39;00m \u001b[39mself\u001b[39m\u001b[39m.\u001b[39m_sampler_iter \u001b[39mis\u001b[39;00m \u001b[39mNone\u001b[39;00m:\n\u001b[0;32m    631\u001b[0m     \u001b[39m# TODO(https://github.com/pytorch/pytorch/issues/76750)\u001b[39;00m\n\u001b[0;32m    632\u001b[0m     \u001b[39mself\u001b[39m\u001b[39m.\u001b[39m_reset()  \u001b[39m# type: ignore[call-arg]\u001b[39;00m\n\u001b[1;32m--> 633\u001b[0m data \u001b[39m=\u001b[39m \u001b[39mself\u001b[39;49m\u001b[39m.\u001b[39;49m_next_data()\n\u001b[0;32m    634\u001b[0m \u001b[39mself\u001b[39m\u001b[39m.\u001b[39m_num_yielded \u001b[39m+\u001b[39m\u001b[39m=\u001b[39m \u001b[39m1\u001b[39m\n\u001b[0;32m    635\u001b[0m \u001b[39mif\u001b[39;00m \u001b[39mself\u001b[39m\u001b[39m.\u001b[39m_dataset_kind \u001b[39m==\u001b[39m _DatasetKind\u001b[39m.\u001b[39mIterable \u001b[39mand\u001b[39;00m \\\n\u001b[0;32m    636\u001b[0m         \u001b[39mself\u001b[39m\u001b[39m.\u001b[39m_IterableDataset_len_called \u001b[39mis\u001b[39;00m \u001b[39mnot\u001b[39;00m \u001b[39mNone\u001b[39;00m \u001b[39mand\u001b[39;00m \\\n\u001b[0;32m    637\u001b[0m         \u001b[39mself\u001b[39m\u001b[39m.\u001b[39m_num_yielded \u001b[39m>\u001b[39m \u001b[39mself\u001b[39m\u001b[39m.\u001b[39m_IterableDataset_len_called:\n",
      "File \u001b[1;32mc:\\Users\\VINY\\anaconda3\\envs\\DUTCode\\lib\\site-packages\\torch\\utils\\data\\dataloader.py:677\u001b[0m, in \u001b[0;36m_SingleProcessDataLoaderIter._next_data\u001b[1;34m(self)\u001b[0m\n\u001b[0;32m    675\u001b[0m \u001b[39mdef\u001b[39;00m \u001b[39m_next_data\u001b[39m(\u001b[39mself\u001b[39m):\n\u001b[0;32m    676\u001b[0m     index \u001b[39m=\u001b[39m \u001b[39mself\u001b[39m\u001b[39m.\u001b[39m_next_index()  \u001b[39m# may raise StopIteration\u001b[39;00m\n\u001b[1;32m--> 677\u001b[0m     data \u001b[39m=\u001b[39m \u001b[39mself\u001b[39;49m\u001b[39m.\u001b[39;49m_dataset_fetcher\u001b[39m.\u001b[39;49mfetch(index)  \u001b[39m# may raise StopIteration\u001b[39;00m\n\u001b[0;32m    678\u001b[0m     \u001b[39mif\u001b[39;00m \u001b[39mself\u001b[39m\u001b[39m.\u001b[39m_pin_memory:\n\u001b[0;32m    679\u001b[0m         data \u001b[39m=\u001b[39m _utils\u001b[39m.\u001b[39mpin_memory\u001b[39m.\u001b[39mpin_memory(data, \u001b[39mself\u001b[39m\u001b[39m.\u001b[39m_pin_memory_device)\n",
      "File \u001b[1;32mc:\\Users\\VINY\\anaconda3\\envs\\DUTCode\\lib\\site-packages\\torch\\utils\\data\\_utils\\fetch.py:32\u001b[0m, in \u001b[0;36m_IterableDatasetFetcher.fetch\u001b[1;34m(self, possibly_batched_index)\u001b[0m\n\u001b[0;32m     30\u001b[0m \u001b[39mfor\u001b[39;00m _ \u001b[39min\u001b[39;00m possibly_batched_index:\n\u001b[0;32m     31\u001b[0m     \u001b[39mtry\u001b[39;00m:\n\u001b[1;32m---> 32\u001b[0m         data\u001b[39m.\u001b[39mappend(\u001b[39mnext\u001b[39;49m(\u001b[39mself\u001b[39;49m\u001b[39m.\u001b[39;49mdataset_iter))\n\u001b[0;32m     33\u001b[0m     \u001b[39mexcept\u001b[39;00m \u001b[39mStopIteration\u001b[39;00m:\n\u001b[0;32m     34\u001b[0m         \u001b[39mself\u001b[39m\u001b[39m.\u001b[39mended \u001b[39m=\u001b[39m \u001b[39mTrue\u001b[39;00m\n",
      "File \u001b[1;32mc:\\Users\\VINY\\Desktop\\Stabnet multigrid2-DeepStab Modded - Future Frames\\datagen.py:42\u001b[0m, in \u001b[0;36mDatagen.__call__\u001b[1;34m(self)\u001b[0m\n\u001b[0;32m     40\u001b[0m u_cap\u001b[39m.\u001b[39mset(cv2\u001b[39m.\u001b[39mCAP_PROP_POS_FRAMES, frame_idx)\n\u001b[0;32m     41\u001b[0m \u001b[39mfor\u001b[39;00m i,pos \u001b[39min\u001b[39;00m \u001b[39menumerate\u001b[39m(\u001b[39mrange\u001b[39m(frame_idx \u001b[39m-\u001b[39m SKIP, frame_idx \u001b[39m+\u001b[39m SKIP \u001b[39m+\u001b[39m \u001b[39m1\u001b[39m, SKIP \u001b[39m/\u001b[39m\u001b[39m/\u001b[39m \u001b[39m2\u001b[39m)):\n\u001b[1;32m---> 42\u001b[0m     u_cap\u001b[39m.\u001b[39;49mset(cv2\u001b[39m.\u001b[39;49mCAP_PROP_POS_FRAMES,pos \u001b[39m-\u001b[39;49m \u001b[39m1\u001b[39;49m)\n\u001b[0;32m     43\u001b[0m     _,temp \u001b[39m=\u001b[39m u_cap\u001b[39m.\u001b[39mread()\n\u001b[0;32m     44\u001b[0m     temp \u001b[39m=\u001b[39m \u001b[39mself\u001b[39m\u001b[39m.\u001b[39mpreprocess(temp)\n",
      "\u001b[1;31mKeyboardInterrupt\u001b[0m: "
     ]
    }
   ],
   "source": [
    "cv2.namedWindow('window',cv2.WINDOW_NORMAL)\n",
    "# Training loop\n",
    "for epoch in range(starting_epoch,EPOCHS):  \n",
    "    # Generate the data for each iteration\n",
    "    running_loss = 0\n",
    "    for idx,batch in enumerate(data_loader):\n",
    "        start = time()\n",
    "        St, St_1, Igt , flow,features = batch\n",
    "        # Move the data to GPU if available\n",
    "        St = St.to(device)\n",
    "        St_1 = St_1.to(device)\n",
    "        Igt = Igt.to(device)\n",
    "        It = St[:,6:9,...].to(device)\n",
    "        It_1 = St_1[:,6:9,...].to(device)\n",
    "        flow = flow.to(device)\n",
    "        features = features.to(device)\n",
    "        # Forward pass through the Siamese Network\n",
    "        \n",
    "        transform0 = stabnet(St)\n",
    "        transform1 = stabnet(St_1)\n",
    "\n",
    "        warped0,warp_field = get_warp(transform0,It)\n",
    "        warped1,_ = get_warp(transform1,It_1)\n",
    "        # Compute the losses\n",
    "        #stability loss\n",
    "        pixel_loss = 10 * F.mse_loss(warped0, Igt)\n",
    "        feat_loss = feature_loss(features,warp_field)\n",
    "        stability_loss = pixel_loss + feat_loss\n",
    "        #shape_loss\n",
    "        sh_loss = shape_loss(transform0)\n",
    "        #temporal loss\n",
    "        warped2 = dense_warp(warped1, flow)\n",
    "        temp_loss =  10 * F.mse_loss(warped0,warped2)\n",
    "        # Perform backpropagation and update the model parameters\n",
    "        optimizer.zero_grad()\n",
    "        total_loss =  stability_loss + sh_loss + temp_loss\n",
    "        total_loss.backward()\n",
    "        optimizer.step()\n",
    "\n",
    "        \n",
    "        means = np.array([0.485, 0.456, 0.406],dtype = np.float32)\n",
    "        stds = np.array([0.229, 0.224, 0.225],dtype = np.float32)\n",
    "\n",
    "        img = warped0[0,...].detach().cpu().permute(1,2,0).numpy()\n",
    "        img *= stds\n",
    "        img += means\n",
    "        img = np.clip(img * 255.0,0,255).astype(np.uint8)\n",
    "\n",
    "        img1 = Igt[0,...].cpu().permute(1,2,0).numpy()\n",
    "        img1 *= stds\n",
    "        img1 += means\n",
    "        img1 = np.clip(img1 * 255.0,0,255).astype(np.uint8)\n",
    "        #draw features\n",
    "        stable_features = ((features[:, :, 0, :] + 1) / 2) * torch.tensor([255, 255], dtype=torch.float).to(device)\n",
    "        unstable_features = ((features[:, :, 1, :] + 1) / 2) * torch.tensor([255, 255], dtype=torch.float).to(device)\n",
    "        # Clip the features to the range [0, 255]\n",
    "        stable_features = torch.clamp(stable_features, min=0, max=255).cpu().numpy()\n",
    "        unstable_features = torch.clamp(unstable_features, min=0, max=255).cpu().numpy()\n",
    "        img = draw_features(img,unstable_features[0,...],color = (0,255,0))\n",
    "        img1 = draw_features(img1,stable_features[0,...],color = (0,0,255))\n",
    "        conc = cv2.hconcat([img,img1])\n",
    "        cv2.imshow('window',conc)\n",
    "        if cv2.waitKey(1) & 0xFF == ord('9'):\n",
    "            break\n",
    "        \n",
    "        running_loss += total_loss.item()\n",
    "        print(f\"\\rEpoch: {epoch}, Batch:{idx}, loss:{running_loss / (idx % 100 + 1)}\\\n",
    "        pixel_loss:{pixel_loss.item()}, feature_loss:{feat_loss.item()} ,temp:{temp_loss.item()}, shape:{sh_loss.item()}\",end = \"\")\n",
    "        if idx % 100 == 99:\n",
    "            writer.add_scalar('training_loss',\n",
    "                                running_loss / 100, \n",
    "                                epoch * 41328 // batch_size + idx)\n",
    "            running_loss = 0.0\n",
    "            # Get current date and time as a formatted string\n",
    "            current_datetime = datetime.datetime.now().strftime(\"%Y-%m-%d_%H-%M-%S\")\n",
    "\n",
    "            # Append the formatted date-time string to the model filename\n",
    "            model_path = os.path.join(ckpt_dir, f'stabnet_{current_datetime}.pth')\n",
    "            \n",
    "            torch.save({'model': stabnet.state_dict(),\n",
    "                        'optimizer' : optimizer.state_dict(),\n",
    "                        'epoch' : epoch}\n",
    "                        ,model_path)\n",
    "        del St, St_1, It, Igt, It_1,flow,features\n",
    "cv2.destroyAllWindows()"
   ]
  },
  {
   "cell_type": "code",
   "execution_count": null,
   "metadata": {},
   "outputs": [],
   "source": []
  }
 ],
 "metadata": {
  "kernelspec": {
   "display_name": "DUTCode",
   "language": "python",
   "name": "python3"
  },
  "language_info": {
   "codemirror_mode": {
    "name": "ipython",
    "version": 3
   },
   "file_extension": ".py",
   "mimetype": "text/x-python",
   "name": "python",
   "nbconvert_exporter": "python",
   "pygments_lexer": "ipython3",
   "version": "3.9.16"
  },
  "orig_nbformat": 4
 },
 "nbformat": 4,
 "nbformat_minor": 2
}
